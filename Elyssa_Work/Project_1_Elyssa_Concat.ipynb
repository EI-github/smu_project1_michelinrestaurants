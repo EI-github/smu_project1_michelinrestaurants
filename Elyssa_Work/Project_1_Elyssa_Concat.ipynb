{
 "cells": [
  {
   "cell_type": "code",
   "execution_count": 1,
   "id": "1433cc03",
   "metadata": {},
   "outputs": [],
   "source": [
    "import pandas as pd"
   ]
  },
  {
   "cell_type": "code",
   "execution_count": 2,
   "id": "6deded2c",
   "metadata": {},
   "outputs": [],
   "source": [
    "onestar = \"../Resources/one-star-michelin-restaurants.csv\"\n",
    "twostar = \"../Resources/two-stars-michelin-restaurants.csv\"\n",
    "threestar = \"../Resources/three-stars-michelin-restaurants.csv\""
   ]
  },
  {
   "cell_type": "code",
   "execution_count": 3,
   "id": "1c4265bd",
   "metadata": {},
   "outputs": [],
   "source": [
    "onestar_df = pd.read_csv(onestar)\n",
    "twostar_df = pd.read_csv(twostar)\n",
    "threestar_df = pd.read_csv(threestar)"
   ]
  },
  {
   "cell_type": "code",
   "execution_count": 4,
   "id": "cdd6c89c",
   "metadata": {},
   "outputs": [
    {
     "data": {
      "text/html": [
       "<div>\n",
       "<style scoped>\n",
       "    .dataframe tbody tr th:only-of-type {\n",
       "        vertical-align: middle;\n",
       "    }\n",
       "\n",
       "    .dataframe tbody tr th {\n",
       "        vertical-align: top;\n",
       "    }\n",
       "\n",
       "    .dataframe thead th {\n",
       "        text-align: right;\n",
       "    }\n",
       "</style>\n",
       "<table border=\"1\" class=\"dataframe\">\n",
       "  <thead>\n",
       "    <tr style=\"text-align: right;\">\n",
       "      <th></th>\n",
       "      <th>name</th>\n",
       "      <th>year</th>\n",
       "      <th>latitude</th>\n",
       "      <th>longitude</th>\n",
       "      <th>city</th>\n",
       "      <th>region</th>\n",
       "      <th>zipCode</th>\n",
       "      <th>cuisine</th>\n",
       "      <th>price</th>\n",
       "      <th>url</th>\n",
       "    </tr>\n",
       "  </thead>\n",
       "  <tbody>\n",
       "    <tr>\n",
       "      <th>0</th>\n",
       "      <td>Kilian Stuba</td>\n",
       "      <td>2019</td>\n",
       "      <td>47.348580</td>\n",
       "      <td>10.17114</td>\n",
       "      <td>Kleinwalsertal</td>\n",
       "      <td>Austria</td>\n",
       "      <td>87568</td>\n",
       "      <td>Creative</td>\n",
       "      <td>$$$$$</td>\n",
       "      <td>https://guide.michelin.com/at/en/vorarlberg/kl...</td>\n",
       "    </tr>\n",
       "    <tr>\n",
       "      <th>1</th>\n",
       "      <td>Pfefferschiff</td>\n",
       "      <td>2019</td>\n",
       "      <td>47.837870</td>\n",
       "      <td>13.07917</td>\n",
       "      <td>Hallwang</td>\n",
       "      <td>Austria</td>\n",
       "      <td>5300</td>\n",
       "      <td>Classic cuisine</td>\n",
       "      <td>$$$$$</td>\n",
       "      <td>https://guide.michelin.com/at/en/salzburg-regi...</td>\n",
       "    </tr>\n",
       "    <tr>\n",
       "      <th>2</th>\n",
       "      <td>Esszimmer</td>\n",
       "      <td>2019</td>\n",
       "      <td>47.806850</td>\n",
       "      <td>13.03409</td>\n",
       "      <td>Salzburg</td>\n",
       "      <td>Austria</td>\n",
       "      <td>5020</td>\n",
       "      <td>Creative</td>\n",
       "      <td>$$$$$</td>\n",
       "      <td>https://guide.michelin.com/at/en/salzburg-regi...</td>\n",
       "    </tr>\n",
       "    <tr>\n",
       "      <th>3</th>\n",
       "      <td>Carpe Diem</td>\n",
       "      <td>2019</td>\n",
       "      <td>47.800010</td>\n",
       "      <td>13.04006</td>\n",
       "      <td>Salzburg</td>\n",
       "      <td>Austria</td>\n",
       "      <td>5020</td>\n",
       "      <td>Market cuisine</td>\n",
       "      <td>$$$$$</td>\n",
       "      <td>https://guide.michelin.com/at/en/salzburg-regi...</td>\n",
       "    </tr>\n",
       "    <tr>\n",
       "      <th>4</th>\n",
       "      <td>Edvard</td>\n",
       "      <td>2019</td>\n",
       "      <td>48.216503</td>\n",
       "      <td>16.36852</td>\n",
       "      <td>Wien</td>\n",
       "      <td>Austria</td>\n",
       "      <td>1010</td>\n",
       "      <td>Modern cuisine</td>\n",
       "      <td>$$$$</td>\n",
       "      <td>https://guide.michelin.com/at/en/vienna/wien/r...</td>\n",
       "    </tr>\n",
       "  </tbody>\n",
       "</table>\n",
       "</div>"
      ],
      "text/plain": [
       "            name  year   latitude  longitude            city   region zipCode  \\\n",
       "0   Kilian Stuba  2019  47.348580   10.17114  Kleinwalsertal  Austria   87568   \n",
       "1  Pfefferschiff  2019  47.837870   13.07917        Hallwang  Austria    5300   \n",
       "2      Esszimmer  2019  47.806850   13.03409        Salzburg  Austria    5020   \n",
       "3     Carpe Diem  2019  47.800010   13.04006        Salzburg  Austria    5020   \n",
       "4         Edvard  2019  48.216503   16.36852            Wien  Austria    1010   \n",
       "\n",
       "           cuisine  price                                                url  \n",
       "0         Creative  $$$$$  https://guide.michelin.com/at/en/vorarlberg/kl...  \n",
       "1  Classic cuisine  $$$$$  https://guide.michelin.com/at/en/salzburg-regi...  \n",
       "2         Creative  $$$$$  https://guide.michelin.com/at/en/salzburg-regi...  \n",
       "3   Market cuisine  $$$$$  https://guide.michelin.com/at/en/salzburg-regi...  \n",
       "4   Modern cuisine   $$$$  https://guide.michelin.com/at/en/vienna/wien/r...  "
      ]
     },
     "execution_count": 4,
     "metadata": {},
     "output_type": "execute_result"
    }
   ],
   "source": [
    "onestar_df.head()"
   ]
  },
  {
   "cell_type": "code",
   "execution_count": 5,
   "id": "717b1ea0",
   "metadata": {},
   "outputs": [
    {
     "data": {
      "text/plain": [
       "(549, 10)"
      ]
     },
     "execution_count": 5,
     "metadata": {},
     "output_type": "execute_result"
    }
   ],
   "source": [
    "onestar_df.shape"
   ]
  },
  {
   "cell_type": "code",
   "execution_count": 6,
   "id": "17e545c1",
   "metadata": {},
   "outputs": [
    {
     "name": "stdout",
     "output_type": "stream",
     "text": [
      "<class 'pandas.core.frame.DataFrame'>\n",
      "RangeIndex: 549 entries, 0 to 548\n",
      "Data columns (total 10 columns):\n",
      " #   Column     Non-Null Count  Dtype  \n",
      "---  ------     --------------  -----  \n",
      " 0   name       549 non-null    object \n",
      " 1   year       549 non-null    int64  \n",
      " 2   latitude   549 non-null    float64\n",
      " 3   longitude  549 non-null    float64\n",
      " 4   city       547 non-null    object \n",
      " 5   region     549 non-null    object \n",
      " 6   zipCode    400 non-null    object \n",
      " 7   cuisine    549 non-null    object \n",
      " 8   price      398 non-null    object \n",
      " 9   url        549 non-null    object \n",
      "dtypes: float64(2), int64(1), object(7)\n",
      "memory usage: 43.0+ KB\n"
     ]
    }
   ],
   "source": [
    "onestar_df.info()"
   ]
  },
  {
   "cell_type": "code",
   "execution_count": 7,
   "id": "3816665d",
   "metadata": {},
   "outputs": [
    {
     "data": {
      "text/html": [
       "<div>\n",
       "<style scoped>\n",
       "    .dataframe tbody tr th:only-of-type {\n",
       "        vertical-align: middle;\n",
       "    }\n",
       "\n",
       "    .dataframe tbody tr th {\n",
       "        vertical-align: top;\n",
       "    }\n",
       "\n",
       "    .dataframe thead th {\n",
       "        text-align: right;\n",
       "    }\n",
       "</style>\n",
       "<table border=\"1\" class=\"dataframe\">\n",
       "  <thead>\n",
       "    <tr style=\"text-align: right;\">\n",
       "      <th></th>\n",
       "      <th>name</th>\n",
       "      <th>year</th>\n",
       "      <th>latitude</th>\n",
       "      <th>longitude</th>\n",
       "      <th>city</th>\n",
       "      <th>region</th>\n",
       "      <th>zipCode</th>\n",
       "      <th>cuisine</th>\n",
       "      <th>price</th>\n",
       "      <th>url</th>\n",
       "    </tr>\n",
       "  </thead>\n",
       "  <tbody>\n",
       "    <tr>\n",
       "      <th>0</th>\n",
       "      <td>SENNS.Restaurant</td>\n",
       "      <td>2019</td>\n",
       "      <td>47.83636</td>\n",
       "      <td>13.06389</td>\n",
       "      <td>Salzburg</td>\n",
       "      <td>Austria</td>\n",
       "      <td>5020</td>\n",
       "      <td>Creative</td>\n",
       "      <td>$$$$$</td>\n",
       "      <td>https://guide.michelin.com/at/en/salzburg-regi...</td>\n",
       "    </tr>\n",
       "    <tr>\n",
       "      <th>1</th>\n",
       "      <td>Ikarus</td>\n",
       "      <td>2019</td>\n",
       "      <td>47.79536</td>\n",
       "      <td>13.00695</td>\n",
       "      <td>Salzburg</td>\n",
       "      <td>Austria</td>\n",
       "      <td>5020</td>\n",
       "      <td>Creative</td>\n",
       "      <td>$$$$$</td>\n",
       "      <td>https://guide.michelin.com/at/en/salzburg-regi...</td>\n",
       "    </tr>\n",
       "    <tr>\n",
       "      <th>2</th>\n",
       "      <td>Mraz &amp; Sohn</td>\n",
       "      <td>2019</td>\n",
       "      <td>48.23129</td>\n",
       "      <td>16.37637</td>\n",
       "      <td>Wien</td>\n",
       "      <td>Austria</td>\n",
       "      <td>1200</td>\n",
       "      <td>Creative</td>\n",
       "      <td>$$$$$</td>\n",
       "      <td>https://guide.michelin.com/at/en/vienna/wien/r...</td>\n",
       "    </tr>\n",
       "    <tr>\n",
       "      <th>3</th>\n",
       "      <td>Konstantin Filippou</td>\n",
       "      <td>2019</td>\n",
       "      <td>48.21056</td>\n",
       "      <td>16.37996</td>\n",
       "      <td>Wien</td>\n",
       "      <td>Austria</td>\n",
       "      <td>1010</td>\n",
       "      <td>Modern cuisine</td>\n",
       "      <td>$$$$$</td>\n",
       "      <td>https://guide.michelin.com/at/en/vienna/wien/r...</td>\n",
       "    </tr>\n",
       "    <tr>\n",
       "      <th>4</th>\n",
       "      <td>Silvio Nickol Gourmet Restaurant</td>\n",
       "      <td>2019</td>\n",
       "      <td>48.20558</td>\n",
       "      <td>16.37693</td>\n",
       "      <td>Wien</td>\n",
       "      <td>Austria</td>\n",
       "      <td>1010</td>\n",
       "      <td>Modern cuisine</td>\n",
       "      <td>$$$$$</td>\n",
       "      <td>https://guide.michelin.com/at/en/vienna/wien/r...</td>\n",
       "    </tr>\n",
       "  </tbody>\n",
       "</table>\n",
       "</div>"
      ],
      "text/plain": [
       "                               name  year  latitude  longitude      city  \\\n",
       "0                  SENNS.Restaurant  2019  47.83636   13.06389  Salzburg   \n",
       "1                            Ikarus  2019  47.79536   13.00695  Salzburg   \n",
       "2                       Mraz & Sohn  2019  48.23129   16.37637      Wien   \n",
       "3               Konstantin Filippou  2019  48.21056   16.37996      Wien   \n",
       "4  Silvio Nickol Gourmet Restaurant  2019  48.20558   16.37693      Wien   \n",
       "\n",
       "    region zipCode         cuisine  price  \\\n",
       "0  Austria    5020        Creative  $$$$$   \n",
       "1  Austria    5020        Creative  $$$$$   \n",
       "2  Austria    1200        Creative  $$$$$   \n",
       "3  Austria    1010  Modern cuisine  $$$$$   \n",
       "4  Austria    1010  Modern cuisine  $$$$$   \n",
       "\n",
       "                                                 url  \n",
       "0  https://guide.michelin.com/at/en/salzburg-regi...  \n",
       "1  https://guide.michelin.com/at/en/salzburg-regi...  \n",
       "2  https://guide.michelin.com/at/en/vienna/wien/r...  \n",
       "3  https://guide.michelin.com/at/en/vienna/wien/r...  \n",
       "4  https://guide.michelin.com/at/en/vienna/wien/r...  "
      ]
     },
     "execution_count": 7,
     "metadata": {},
     "output_type": "execute_result"
    }
   ],
   "source": [
    "twostar_df.head()"
   ]
  },
  {
   "cell_type": "code",
   "execution_count": 8,
   "id": "cf85b202",
   "metadata": {},
   "outputs": [
    {
     "data": {
      "text/plain": [
       "(110, 10)"
      ]
     },
     "execution_count": 8,
     "metadata": {},
     "output_type": "execute_result"
    }
   ],
   "source": [
    "twostar_df.shape"
   ]
  },
  {
   "cell_type": "code",
   "execution_count": 9,
   "id": "3d24154e",
   "metadata": {
    "scrolled": true
   },
   "outputs": [
    {
     "name": "stdout",
     "output_type": "stream",
     "text": [
      "<class 'pandas.core.frame.DataFrame'>\n",
      "RangeIndex: 110 entries, 0 to 109\n",
      "Data columns (total 10 columns):\n",
      " #   Column     Non-Null Count  Dtype  \n",
      "---  ------     --------------  -----  \n",
      " 0   name       110 non-null    object \n",
      " 1   year       110 non-null    int64  \n",
      " 2   latitude   110 non-null    float64\n",
      " 3   longitude  110 non-null    float64\n",
      " 4   city       110 non-null    object \n",
      " 5   region     110 non-null    object \n",
      " 6   zipCode    77 non-null     object \n",
      " 7   cuisine    110 non-null    object \n",
      " 8   price      90 non-null     object \n",
      " 9   url        110 non-null    object \n",
      "dtypes: float64(2), int64(1), object(7)\n",
      "memory usage: 8.7+ KB\n"
     ]
    }
   ],
   "source": [
    "twostar_df.info()"
   ]
  },
  {
   "cell_type": "code",
   "execution_count": 10,
   "id": "2ac655d8",
   "metadata": {},
   "outputs": [
    {
     "data": {
      "text/html": [
       "<div>\n",
       "<style scoped>\n",
       "    .dataframe tbody tr th:only-of-type {\n",
       "        vertical-align: middle;\n",
       "    }\n",
       "\n",
       "    .dataframe tbody tr th {\n",
       "        vertical-align: top;\n",
       "    }\n",
       "\n",
       "    .dataframe thead th {\n",
       "        text-align: right;\n",
       "    }\n",
       "</style>\n",
       "<table border=\"1\" class=\"dataframe\">\n",
       "  <thead>\n",
       "    <tr style=\"text-align: right;\">\n",
       "      <th></th>\n",
       "      <th>name</th>\n",
       "      <th>year</th>\n",
       "      <th>latitude</th>\n",
       "      <th>longitude</th>\n",
       "      <th>city</th>\n",
       "      <th>region</th>\n",
       "      <th>zipCode</th>\n",
       "      <th>cuisine</th>\n",
       "      <th>price</th>\n",
       "      <th>url</th>\n",
       "    </tr>\n",
       "  </thead>\n",
       "  <tbody>\n",
       "    <tr>\n",
       "      <th>0</th>\n",
       "      <td>Amador</td>\n",
       "      <td>2019</td>\n",
       "      <td>48.25406</td>\n",
       "      <td>16.35915</td>\n",
       "      <td>Wien</td>\n",
       "      <td>Austria</td>\n",
       "      <td>1190</td>\n",
       "      <td>Creative</td>\n",
       "      <td>$$$$$</td>\n",
       "      <td>https://guide.michelin.com/at/en/vienna/wien/r...</td>\n",
       "    </tr>\n",
       "    <tr>\n",
       "      <th>1</th>\n",
       "      <td>Manresa</td>\n",
       "      <td>2019</td>\n",
       "      <td>37.22761</td>\n",
       "      <td>-121.98071</td>\n",
       "      <td>South San Francisco</td>\n",
       "      <td>California</td>\n",
       "      <td>95030</td>\n",
       "      <td>Contemporary</td>\n",
       "      <td>$$$$</td>\n",
       "      <td>https://guide.michelin.com/us/en/california/so...</td>\n",
       "    </tr>\n",
       "    <tr>\n",
       "      <th>2</th>\n",
       "      <td>Benu</td>\n",
       "      <td>2019</td>\n",
       "      <td>37.78521</td>\n",
       "      <td>-122.39876</td>\n",
       "      <td>San Francisco</td>\n",
       "      <td>California</td>\n",
       "      <td>94105</td>\n",
       "      <td>Asian</td>\n",
       "      <td>$$$$</td>\n",
       "      <td>https://guide.michelin.com/us/en/california/sa...</td>\n",
       "    </tr>\n",
       "    <tr>\n",
       "      <th>3</th>\n",
       "      <td>Quince</td>\n",
       "      <td>2019</td>\n",
       "      <td>37.79762</td>\n",
       "      <td>-122.40337</td>\n",
       "      <td>San Francisco</td>\n",
       "      <td>California</td>\n",
       "      <td>94133</td>\n",
       "      <td>Contemporary</td>\n",
       "      <td>$$$$</td>\n",
       "      <td>https://guide.michelin.com/us/en/california/sa...</td>\n",
       "    </tr>\n",
       "    <tr>\n",
       "      <th>4</th>\n",
       "      <td>Atelier Crenn</td>\n",
       "      <td>2019</td>\n",
       "      <td>37.79835</td>\n",
       "      <td>-122.43586</td>\n",
       "      <td>San Francisco</td>\n",
       "      <td>California</td>\n",
       "      <td>94123</td>\n",
       "      <td>Contemporary</td>\n",
       "      <td>$$$$</td>\n",
       "      <td>https://guide.michelin.com/us/en/california/sa...</td>\n",
       "    </tr>\n",
       "  </tbody>\n",
       "</table>\n",
       "</div>"
      ],
      "text/plain": [
       "            name  year  latitude  longitude                 city      region  \\\n",
       "0         Amador  2019  48.25406   16.35915                 Wien     Austria   \n",
       "1        Manresa  2019  37.22761 -121.98071  South San Francisco  California   \n",
       "2           Benu  2019  37.78521 -122.39876        San Francisco  California   \n",
       "3         Quince  2019  37.79762 -122.40337        San Francisco  California   \n",
       "4  Atelier Crenn  2019  37.79835 -122.43586        San Francisco  California   \n",
       "\n",
       "  zipCode       cuisine  price  \\\n",
       "0    1190      Creative  $$$$$   \n",
       "1   95030  Contemporary   $$$$   \n",
       "2   94105         Asian   $$$$   \n",
       "3   94133  Contemporary   $$$$   \n",
       "4   94123  Contemporary   $$$$   \n",
       "\n",
       "                                                 url  \n",
       "0  https://guide.michelin.com/at/en/vienna/wien/r...  \n",
       "1  https://guide.michelin.com/us/en/california/so...  \n",
       "2  https://guide.michelin.com/us/en/california/sa...  \n",
       "3  https://guide.michelin.com/us/en/california/sa...  \n",
       "4  https://guide.michelin.com/us/en/california/sa...  "
      ]
     },
     "execution_count": 10,
     "metadata": {},
     "output_type": "execute_result"
    }
   ],
   "source": [
    "threestar_df.head()"
   ]
  },
  {
   "cell_type": "code",
   "execution_count": 11,
   "id": "821b2d77",
   "metadata": {},
   "outputs": [
    {
     "data": {
      "text/plain": [
       "(36, 10)"
      ]
     },
     "execution_count": 11,
     "metadata": {},
     "output_type": "execute_result"
    }
   ],
   "source": [
    "threestar_df.shape"
   ]
  },
  {
   "cell_type": "code",
   "execution_count": 12,
   "id": "aa1f234c",
   "metadata": {},
   "outputs": [
    {
     "name": "stdout",
     "output_type": "stream",
     "text": [
      "<class 'pandas.core.frame.DataFrame'>\n",
      "RangeIndex: 36 entries, 0 to 35\n",
      "Data columns (total 10 columns):\n",
      " #   Column     Non-Null Count  Dtype  \n",
      "---  ------     --------------  -----  \n",
      " 0   name       36 non-null     object \n",
      " 1   year       36 non-null     int64  \n",
      " 2   latitude   36 non-null     float64\n",
      " 3   longitude  36 non-null     float64\n",
      " 4   city       36 non-null     object \n",
      " 5   region     36 non-null     object \n",
      " 6   zipCode    24 non-null     object \n",
      " 7   cuisine    36 non-null     object \n",
      " 8   price      31 non-null     object \n",
      " 9   url        36 non-null     object \n",
      "dtypes: float64(2), int64(1), object(7)\n",
      "memory usage: 2.9+ KB\n"
     ]
    }
   ],
   "source": [
    "threestar_df.info()"
   ]
  },
  {
   "cell_type": "code",
   "execution_count": 13,
   "id": "f016c35e",
   "metadata": {},
   "outputs": [],
   "source": [
    "onestar_df[\"Michelin Star Count\"] = 1\n",
    "twostar_df[\"Michelin Star Count\"] = 2\n",
    "threestar_df[\"Michelin Star Count\"] = 3"
   ]
  },
  {
   "cell_type": "code",
   "execution_count": 14,
   "id": "31bb9696",
   "metadata": {},
   "outputs": [],
   "source": [
    "mergedstar_df = pd.concat([onestar_df, twostar_df, threestar_df])"
   ]
  },
  {
   "cell_type": "code",
   "execution_count": 15,
   "id": "4e3252f7",
   "metadata": {
    "scrolled": true
   },
   "outputs": [
    {
     "data": {
      "text/html": [
       "<div>\n",
       "<style scoped>\n",
       "    .dataframe tbody tr th:only-of-type {\n",
       "        vertical-align: middle;\n",
       "    }\n",
       "\n",
       "    .dataframe tbody tr th {\n",
       "        vertical-align: top;\n",
       "    }\n",
       "\n",
       "    .dataframe thead th {\n",
       "        text-align: right;\n",
       "    }\n",
       "</style>\n",
       "<table border=\"1\" class=\"dataframe\">\n",
       "  <thead>\n",
       "    <tr style=\"text-align: right;\">\n",
       "      <th></th>\n",
       "      <th>name</th>\n",
       "      <th>year</th>\n",
       "      <th>latitude</th>\n",
       "      <th>longitude</th>\n",
       "      <th>city</th>\n",
       "      <th>region</th>\n",
       "      <th>zipCode</th>\n",
       "      <th>cuisine</th>\n",
       "      <th>price</th>\n",
       "      <th>url</th>\n",
       "      <th>Michelin Star Count</th>\n",
       "    </tr>\n",
       "  </thead>\n",
       "  <tbody>\n",
       "    <tr>\n",
       "      <th>0</th>\n",
       "      <td>Kilian Stuba</td>\n",
       "      <td>2019</td>\n",
       "      <td>47.348580</td>\n",
       "      <td>10.17114</td>\n",
       "      <td>Kleinwalsertal</td>\n",
       "      <td>Austria</td>\n",
       "      <td>87568</td>\n",
       "      <td>Creative</td>\n",
       "      <td>$$$$$</td>\n",
       "      <td>https://guide.michelin.com/at/en/vorarlberg/kl...</td>\n",
       "      <td>1</td>\n",
       "    </tr>\n",
       "    <tr>\n",
       "      <th>1</th>\n",
       "      <td>Pfefferschiff</td>\n",
       "      <td>2019</td>\n",
       "      <td>47.837870</td>\n",
       "      <td>13.07917</td>\n",
       "      <td>Hallwang</td>\n",
       "      <td>Austria</td>\n",
       "      <td>5300</td>\n",
       "      <td>Classic cuisine</td>\n",
       "      <td>$$$$$</td>\n",
       "      <td>https://guide.michelin.com/at/en/salzburg-regi...</td>\n",
       "      <td>1</td>\n",
       "    </tr>\n",
       "    <tr>\n",
       "      <th>2</th>\n",
       "      <td>Esszimmer</td>\n",
       "      <td>2019</td>\n",
       "      <td>47.806850</td>\n",
       "      <td>13.03409</td>\n",
       "      <td>Salzburg</td>\n",
       "      <td>Austria</td>\n",
       "      <td>5020</td>\n",
       "      <td>Creative</td>\n",
       "      <td>$$$$$</td>\n",
       "      <td>https://guide.michelin.com/at/en/salzburg-regi...</td>\n",
       "      <td>1</td>\n",
       "    </tr>\n",
       "    <tr>\n",
       "      <th>3</th>\n",
       "      <td>Carpe Diem</td>\n",
       "      <td>2019</td>\n",
       "      <td>47.800010</td>\n",
       "      <td>13.04006</td>\n",
       "      <td>Salzburg</td>\n",
       "      <td>Austria</td>\n",
       "      <td>5020</td>\n",
       "      <td>Market cuisine</td>\n",
       "      <td>$$$$$</td>\n",
       "      <td>https://guide.michelin.com/at/en/salzburg-regi...</td>\n",
       "      <td>1</td>\n",
       "    </tr>\n",
       "    <tr>\n",
       "      <th>4</th>\n",
       "      <td>Edvard</td>\n",
       "      <td>2019</td>\n",
       "      <td>48.216503</td>\n",
       "      <td>16.36852</td>\n",
       "      <td>Wien</td>\n",
       "      <td>Austria</td>\n",
       "      <td>1010</td>\n",
       "      <td>Modern cuisine</td>\n",
       "      <td>$$$$</td>\n",
       "      <td>https://guide.michelin.com/at/en/vienna/wien/r...</td>\n",
       "      <td>1</td>\n",
       "    </tr>\n",
       "  </tbody>\n",
       "</table>\n",
       "</div>"
      ],
      "text/plain": [
       "            name  year   latitude  longitude            city   region zipCode  \\\n",
       "0   Kilian Stuba  2019  47.348580   10.17114  Kleinwalsertal  Austria   87568   \n",
       "1  Pfefferschiff  2019  47.837870   13.07917        Hallwang  Austria    5300   \n",
       "2      Esszimmer  2019  47.806850   13.03409        Salzburg  Austria    5020   \n",
       "3     Carpe Diem  2019  47.800010   13.04006        Salzburg  Austria    5020   \n",
       "4         Edvard  2019  48.216503   16.36852            Wien  Austria    1010   \n",
       "\n",
       "           cuisine  price                                                url  \\\n",
       "0         Creative  $$$$$  https://guide.michelin.com/at/en/vorarlberg/kl...   \n",
       "1  Classic cuisine  $$$$$  https://guide.michelin.com/at/en/salzburg-regi...   \n",
       "2         Creative  $$$$$  https://guide.michelin.com/at/en/salzburg-regi...   \n",
       "3   Market cuisine  $$$$$  https://guide.michelin.com/at/en/salzburg-regi...   \n",
       "4   Modern cuisine   $$$$  https://guide.michelin.com/at/en/vienna/wien/r...   \n",
       "\n",
       "   Michelin Star Count  \n",
       "0                    1  \n",
       "1                    1  \n",
       "2                    1  \n",
       "3                    1  \n",
       "4                    1  "
      ]
     },
     "execution_count": 15,
     "metadata": {},
     "output_type": "execute_result"
    }
   ],
   "source": [
    "mergedstar_df.head()"
   ]
  },
  {
   "cell_type": "code",
   "execution_count": 16,
   "id": "d5e03ea8",
   "metadata": {},
   "outputs": [
    {
     "data": {
      "text/plain": [
       "(695, 11)"
      ]
     },
     "execution_count": 16,
     "metadata": {},
     "output_type": "execute_result"
    }
   ],
   "source": [
    "mergedstar_df.shape"
   ]
  },
  {
   "cell_type": "code",
   "execution_count": 17,
   "id": "73e2912d",
   "metadata": {},
   "outputs": [
    {
     "name": "stdout",
     "output_type": "stream",
     "text": [
      "<class 'pandas.core.frame.DataFrame'>\n",
      "Int64Index: 695 entries, 0 to 35\n",
      "Data columns (total 11 columns):\n",
      " #   Column               Non-Null Count  Dtype  \n",
      "---  ------               --------------  -----  \n",
      " 0   name                 695 non-null    object \n",
      " 1   year                 695 non-null    int64  \n",
      " 2   latitude             695 non-null    float64\n",
      " 3   longitude            695 non-null    float64\n",
      " 4   city                 693 non-null    object \n",
      " 5   region               695 non-null    object \n",
      " 6   zipCode              501 non-null    object \n",
      " 7   cuisine              695 non-null    object \n",
      " 8   price                519 non-null    object \n",
      " 9   url                  695 non-null    object \n",
      " 10  Michelin Star Count  695 non-null    int64  \n",
      "dtypes: float64(2), int64(2), object(7)\n",
      "memory usage: 65.2+ KB\n"
     ]
    }
   ],
   "source": [
    "mergedstar_df.info()"
   ]
  },
  {
   "cell_type": "code",
   "execution_count": null,
   "id": "57d022c7",
   "metadata": {},
   "outputs": [],
   "source": []
  },
  {
   "cell_type": "code",
   "execution_count": null,
   "id": "b3ed3f1b",
   "metadata": {},
   "outputs": [],
   "source": []
  },
  {
   "cell_type": "code",
   "execution_count": null,
   "id": "dc1baf10",
   "metadata": {},
   "outputs": [],
   "source": []
  },
  {
   "cell_type": "code",
   "execution_count": null,
   "id": "f37687d1",
   "metadata": {},
   "outputs": [],
   "source": []
  },
  {
   "cell_type": "code",
   "execution_count": null,
   "id": "fd476ee9",
   "metadata": {},
   "outputs": [],
   "source": []
  }
 ],
 "metadata": {
  "kernelspec": {
   "display_name": "Python 3",
   "language": "python",
   "name": "python3"
  },
  "language_info": {
   "codemirror_mode": {
    "name": "ipython",
    "version": 3
   },
   "file_extension": ".py",
   "mimetype": "text/x-python",
   "name": "python",
   "nbconvert_exporter": "python",
   "pygments_lexer": "ipython3",
   "version": "3.8.8"
  }
 },
 "nbformat": 4,
 "nbformat_minor": 5
}
